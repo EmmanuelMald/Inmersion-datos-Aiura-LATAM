{
 "cells": [
  {
   "attachments": {},
   "cell_type": "markdown",
   "metadata": {},
   "source": [
    "## Continuing with inmuebles_bogota.csv file"
   ]
  },
  {
   "cell_type": "code",
   "execution_count": 2,
   "metadata": {},
   "outputs": [],
   "source": [
    "import pandas as pd\n",
    "import numpy as np"
   ]
  },
  {
   "attachments": {},
   "cell_type": "markdown",
   "metadata": {},
   "source": [
    "Importing data"
   ]
  },
  {
   "cell_type": "code",
   "execution_count": 4,
   "metadata": {},
   "outputs": [],
   "source": [
    "data=pd.read_csv(r\"C:\\Users\\Emmanuel\\OneDrive - Instituto Politecnico Nacional\\GITHUB\\Inmersion-datos-aiura-Latam\\Inmersion-datos-Aiura-LATAM\\Day 1\\inmuebles_bogota.csv\")"
   ]
  },
  {
   "attachments": {},
   "cell_type": "markdown",
   "metadata": {},
   "source": [
    "Writing a better name for columns just to not have future troubles "
   ]
  },
  {
   "cell_type": "code",
   "execution_count": 8,
   "metadata": {},
   "outputs": [],
   "source": [
    "data=data.rename(columns={\"Área\":\"Area\",\"Baños\":\"Banos\"})"
   ]
  },
  {
   "cell_type": "code",
   "execution_count": 10,
   "metadata": {},
   "outputs": [
    {
     "data": {
      "text/html": [
       "<div>\n",
       "<style scoped>\n",
       "    .dataframe tbody tr th:only-of-type {\n",
       "        vertical-align: middle;\n",
       "    }\n",
       "\n",
       "    .dataframe tbody tr th {\n",
       "        vertical-align: top;\n",
       "    }\n",
       "\n",
       "    .dataframe thead th {\n",
       "        text-align: right;\n",
       "    }\n",
       "</style>\n",
       "<table border=\"1\" class=\"dataframe\">\n",
       "  <thead>\n",
       "    <tr style=\"text-align: right;\">\n",
       "      <th></th>\n",
       "      <th>Tipo</th>\n",
       "      <th>Descripcion</th>\n",
       "      <th>Habitaciones</th>\n",
       "      <th>Banos</th>\n",
       "      <th>Area</th>\n",
       "      <th>Barrio</th>\n",
       "      <th>UPZ</th>\n",
       "      <th>Valor</th>\n",
       "    </tr>\n",
       "  </thead>\n",
       "  <tbody>\n",
       "    <tr>\n",
       "      <th>0</th>\n",
       "      <td>Apartamento</td>\n",
       "      <td>Apartamento en venta en Zona Noroccidental</td>\n",
       "      <td>3</td>\n",
       "      <td>2</td>\n",
       "      <td>70</td>\n",
       "      <td>Zona Noroccidental</td>\n",
       "      <td>CHAPINERO: Pardo Rubio + Chapinero</td>\n",
       "      <td>$ 360.000.000</td>\n",
       "    </tr>\n",
       "    <tr>\n",
       "      <th>1</th>\n",
       "      <td>Casa</td>\n",
       "      <td>Casa en venta en Castilla</td>\n",
       "      <td>4</td>\n",
       "      <td>3</td>\n",
       "      <td>170</td>\n",
       "      <td>Castilla</td>\n",
       "      <td>KENNEDY: Castilla + Bavaria</td>\n",
       "      <td>$ 670.000.000</td>\n",
       "    </tr>\n",
       "    <tr>\n",
       "      <th>2</th>\n",
       "      <td>Apartamento</td>\n",
       "      <td>Apartamento en venta en Chico Reservado</td>\n",
       "      <td>3</td>\n",
       "      <td>3</td>\n",
       "      <td>144</td>\n",
       "      <td>Chico Reservado</td>\n",
       "      <td>CHAPINERO: Chicó Lago + El Refugio</td>\n",
       "      <td>$ 1.120.000.000</td>\n",
       "    </tr>\n",
       "    <tr>\n",
       "      <th>3</th>\n",
       "      <td>Apartamento</td>\n",
       "      <td>Apartamento en venta en Usaquén</td>\n",
       "      <td>3</td>\n",
       "      <td>2</td>\n",
       "      <td>154</td>\n",
       "      <td>Usaquén</td>\n",
       "      <td>Usaquén</td>\n",
       "      <td>$ 890.000.000</td>\n",
       "    </tr>\n",
       "    <tr>\n",
       "      <th>4</th>\n",
       "      <td>Apartamento</td>\n",
       "      <td>Apartamento en venta en Bella Suiza</td>\n",
       "      <td>2</td>\n",
       "      <td>3</td>\n",
       "      <td>128</td>\n",
       "      <td>Bella Suiza</td>\n",
       "      <td>USAQUÉN: Country Club + Santa Bárbara</td>\n",
       "      <td>$ 970.000.000</td>\n",
       "    </tr>\n",
       "  </tbody>\n",
       "</table>\n",
       "</div>"
      ],
      "text/plain": [
       "          Tipo                                 Descripcion  Habitaciones  \\\n",
       "0  Apartamento  Apartamento en venta en Zona Noroccidental             3   \n",
       "1         Casa                   Casa en venta en Castilla             4   \n",
       "2  Apartamento     Apartamento en venta en Chico Reservado             3   \n",
       "3  Apartamento             Apartamento en venta en Usaquén             3   \n",
       "4  Apartamento         Apartamento en venta en Bella Suiza             2   \n",
       "\n",
       "   Banos  Area              Barrio                                    UPZ  \\\n",
       "0      2    70  Zona Noroccidental     CHAPINERO: Pardo Rubio + Chapinero   \n",
       "1      3   170            Castilla            KENNEDY: Castilla + Bavaria   \n",
       "2      3   144     Chico Reservado     CHAPINERO: Chicó Lago + El Refugio   \n",
       "3      2   154             Usaquén                                Usaquén   \n",
       "4      3   128         Bella Suiza  USAQUÉN: Country Club + Santa Bárbara   \n",
       "\n",
       "             Valor  \n",
       "0    $ 360.000.000  \n",
       "1    $ 670.000.000  \n",
       "2  $ 1.120.000.000  \n",
       "3    $ 890.000.000  \n",
       "4    $ 970.000.000  "
      ]
     },
     "execution_count": 10,
     "metadata": {},
     "output_type": "execute_result"
    }
   ],
   "source": [
    "data.head()"
   ]
  },
  {
   "cell_type": "code",
   "execution_count": 11,
   "metadata": {},
   "outputs": [
    {
     "name": "stdout",
     "output_type": "stream",
     "text": [
      "<class 'pandas.core.frame.DataFrame'>\n",
      "RangeIndex: 9520 entries, 0 to 9519\n",
      "Data columns (total 8 columns):\n",
      " #   Column        Non-Null Count  Dtype \n",
      "---  ------        --------------  ----- \n",
      " 0   Tipo          9520 non-null   object\n",
      " 1   Descripcion   9520 non-null   object\n",
      " 2   Habitaciones  9520 non-null   int64 \n",
      " 3   Banos         9520 non-null   int64 \n",
      " 4   Area          9520 non-null   int64 \n",
      " 5   Barrio        9520 non-null   object\n",
      " 6   UPZ           9478 non-null   object\n",
      " 7   Valor         9520 non-null   object\n",
      "dtypes: int64(3), object(5)\n",
      "memory usage: 595.1+ KB\n"
     ]
    }
   ],
   "source": [
    "data.info()"
   ]
  },
  {
   "attachments": {},
   "cell_type": "markdown",
   "metadata": {},
   "source": [
    "We can clearly see that \"Valor\" has an object type and we wanted with an \"int\" type"
   ]
  },
  {
   "cell_type": "code",
   "execution_count": 21,
   "metadata": {},
   "outputs": [
    {
     "data": {
      "text/html": [
       "<div>\n",
       "<style scoped>\n",
       "    .dataframe tbody tr th:only-of-type {\n",
       "        vertical-align: middle;\n",
       "    }\n",
       "\n",
       "    .dataframe tbody tr th {\n",
       "        vertical-align: top;\n",
       "    }\n",
       "\n",
       "    .dataframe thead th {\n",
       "        text-align: right;\n",
       "    }\n",
       "</style>\n",
       "<table border=\"1\" class=\"dataframe\">\n",
       "  <thead>\n",
       "    <tr style=\"text-align: right;\">\n",
       "      <th></th>\n",
       "      <th>0</th>\n",
       "      <th>1</th>\n",
       "    </tr>\n",
       "  </thead>\n",
       "  <tbody>\n",
       "    <tr>\n",
       "      <th>0</th>\n",
       "      <td>$</td>\n",
       "      <td>360.000.000</td>\n",
       "    </tr>\n",
       "    <tr>\n",
       "      <th>1</th>\n",
       "      <td>$</td>\n",
       "      <td>670.000.000</td>\n",
       "    </tr>\n",
       "    <tr>\n",
       "      <th>2</th>\n",
       "      <td>$</td>\n",
       "      <td>1.120.000.000</td>\n",
       "    </tr>\n",
       "    <tr>\n",
       "      <th>3</th>\n",
       "      <td>$</td>\n",
       "      <td>890.000.000</td>\n",
       "    </tr>\n",
       "    <tr>\n",
       "      <th>4</th>\n",
       "      <td>$</td>\n",
       "      <td>970.000.000</td>\n",
       "    </tr>\n",
       "    <tr>\n",
       "      <th>...</th>\n",
       "      <td>...</td>\n",
       "      <td>...</td>\n",
       "    </tr>\n",
       "    <tr>\n",
       "      <th>9515</th>\n",
       "      <td>$</td>\n",
       "      <td>290.000.000</td>\n",
       "    </tr>\n",
       "    <tr>\n",
       "      <th>9516</th>\n",
       "      <td>$</td>\n",
       "      <td>670.000.000</td>\n",
       "    </tr>\n",
       "    <tr>\n",
       "      <th>9517</th>\n",
       "      <td>$</td>\n",
       "      <td>900.000.000</td>\n",
       "    </tr>\n",
       "    <tr>\n",
       "      <th>9518</th>\n",
       "      <td>$</td>\n",
       "      <td>335.000.000</td>\n",
       "    </tr>\n",
       "    <tr>\n",
       "      <th>9519</th>\n",
       "      <td>$</td>\n",
       "      <td>144.990.000</td>\n",
       "    </tr>\n",
       "  </tbody>\n",
       "</table>\n",
       "<p>9520 rows × 2 columns</p>\n",
       "</div>"
      ],
      "text/plain": [
       "      0              1\n",
       "0     $    360.000.000\n",
       "1     $    670.000.000\n",
       "2     $  1.120.000.000\n",
       "3     $    890.000.000\n",
       "4     $    970.000.000\n",
       "...  ..            ...\n",
       "9515  $    290.000.000\n",
       "9516  $    670.000.000\n",
       "9517  $    900.000.000\n",
       "9518  $    335.000.000\n",
       "9519  $    144.990.000\n",
       "\n",
       "[9520 rows x 2 columns]"
      ]
     },
     "execution_count": 21,
     "metadata": {},
     "output_type": "execute_result"
    }
   ],
   "source": [
    "data.Valor.str.split() # we can apply string functions because is an object type. It returns a Series data with list\n",
    "data.Valor.str.split(expand=True) #expand returns a new dataframe with the entrances of the list\n",
    "# Check series.atributes for more info"
   ]
  },
  {
   "attachments": {},
   "cell_type": "markdown",
   "metadata": {},
   "source": [
    "Save the column of the number (which still is a object type)"
   ]
  },
  {
   "cell_type": "code",
   "execution_count": 26,
   "metadata": {},
   "outputs": [
    {
     "data": {
      "text/html": [
       "<div>\n",
       "<style scoped>\n",
       "    .dataframe tbody tr th:only-of-type {\n",
       "        vertical-align: middle;\n",
       "    }\n",
       "\n",
       "    .dataframe tbody tr th {\n",
       "        vertical-align: top;\n",
       "    }\n",
       "\n",
       "    .dataframe thead th {\n",
       "        text-align: right;\n",
       "    }\n",
       "</style>\n",
       "<table border=\"1\" class=\"dataframe\">\n",
       "  <thead>\n",
       "    <tr style=\"text-align: right;\">\n",
       "      <th></th>\n",
       "      <th>Tipo</th>\n",
       "      <th>Descripcion</th>\n",
       "      <th>Habitaciones</th>\n",
       "      <th>Banos</th>\n",
       "      <th>Area</th>\n",
       "      <th>Barrio</th>\n",
       "      <th>UPZ</th>\n",
       "      <th>Valor</th>\n",
       "      <th>cost_millions</th>\n",
       "    </tr>\n",
       "  </thead>\n",
       "  <tbody>\n",
       "    <tr>\n",
       "      <th>0</th>\n",
       "      <td>Apartamento</td>\n",
       "      <td>Apartamento en venta en Zona Noroccidental</td>\n",
       "      <td>3</td>\n",
       "      <td>2</td>\n",
       "      <td>70</td>\n",
       "      <td>Zona Noroccidental</td>\n",
       "      <td>CHAPINERO: Pardo Rubio + Chapinero</td>\n",
       "      <td>$ 360.000.000</td>\n",
       "      <td>360.000.000</td>\n",
       "    </tr>\n",
       "    <tr>\n",
       "      <th>1</th>\n",
       "      <td>Casa</td>\n",
       "      <td>Casa en venta en Castilla</td>\n",
       "      <td>4</td>\n",
       "      <td>3</td>\n",
       "      <td>170</td>\n",
       "      <td>Castilla</td>\n",
       "      <td>KENNEDY: Castilla + Bavaria</td>\n",
       "      <td>$ 670.000.000</td>\n",
       "      <td>670.000.000</td>\n",
       "    </tr>\n",
       "    <tr>\n",
       "      <th>2</th>\n",
       "      <td>Apartamento</td>\n",
       "      <td>Apartamento en venta en Chico Reservado</td>\n",
       "      <td>3</td>\n",
       "      <td>3</td>\n",
       "      <td>144</td>\n",
       "      <td>Chico Reservado</td>\n",
       "      <td>CHAPINERO: Chicó Lago + El Refugio</td>\n",
       "      <td>$ 1.120.000.000</td>\n",
       "      <td>1.120.000.000</td>\n",
       "    </tr>\n",
       "    <tr>\n",
       "      <th>3</th>\n",
       "      <td>Apartamento</td>\n",
       "      <td>Apartamento en venta en Usaquén</td>\n",
       "      <td>3</td>\n",
       "      <td>2</td>\n",
       "      <td>154</td>\n",
       "      <td>Usaquén</td>\n",
       "      <td>Usaquén</td>\n",
       "      <td>$ 890.000.000</td>\n",
       "      <td>890.000.000</td>\n",
       "    </tr>\n",
       "    <tr>\n",
       "      <th>4</th>\n",
       "      <td>Apartamento</td>\n",
       "      <td>Apartamento en venta en Bella Suiza</td>\n",
       "      <td>2</td>\n",
       "      <td>3</td>\n",
       "      <td>128</td>\n",
       "      <td>Bella Suiza</td>\n",
       "      <td>USAQUÉN: Country Club + Santa Bárbara</td>\n",
       "      <td>$ 970.000.000</td>\n",
       "      <td>970.000.000</td>\n",
       "    </tr>\n",
       "  </tbody>\n",
       "</table>\n",
       "</div>"
      ],
      "text/plain": [
       "          Tipo                                 Descripcion  Habitaciones  \\\n",
       "0  Apartamento  Apartamento en venta en Zona Noroccidental             3   \n",
       "1         Casa                   Casa en venta en Castilla             4   \n",
       "2  Apartamento     Apartamento en venta en Chico Reservado             3   \n",
       "3  Apartamento             Apartamento en venta en Usaquén             3   \n",
       "4  Apartamento         Apartamento en venta en Bella Suiza             2   \n",
       "\n",
       "   Banos  Area              Barrio                                    UPZ  \\\n",
       "0      2    70  Zona Noroccidental     CHAPINERO: Pardo Rubio + Chapinero   \n",
       "1      3   170            Castilla            KENNEDY: Castilla + Bavaria   \n",
       "2      3   144     Chico Reservado     CHAPINERO: Chicó Lago + El Refugio   \n",
       "3      2   154             Usaquén                                Usaquén   \n",
       "4      3   128         Bella Suiza  USAQUÉN: Country Club + Santa Bárbara   \n",
       "\n",
       "             Valor  cost_millions  \n",
       "0    $ 360.000.000    360.000.000  \n",
       "1    $ 670.000.000    670.000.000  \n",
       "2  $ 1.120.000.000  1.120.000.000  \n",
       "3    $ 890.000.000    890.000.000  \n",
       "4    $ 970.000.000    970.000.000  "
      ]
     },
     "execution_count": 26,
     "metadata": {},
     "output_type": "execute_result"
    }
   ],
   "source": [
    "data[\"cost_millions\"]=data.Valor.str.split(expand=True)[1]\n",
    "data.head()"
   ]
  },
  {
   "attachments": {},
   "cell_type": "markdown",
   "metadata": {},
   "source": [
    "We need to erase the \".\" in the numbers"
   ]
  },
  {
   "cell_type": "code",
   "execution_count": 32,
   "metadata": {},
   "outputs": [
    {
     "name": "stdout",
     "output_type": "stream",
     "text": [
      "<class 'pandas.core.frame.DataFrame'>\n",
      "RangeIndex: 9520 entries, 0 to 9519\n",
      "Data columns (total 9 columns):\n",
      " #   Column         Non-Null Count  Dtype \n",
      "---  ------         --------------  ----- \n",
      " 0   Tipo           9520 non-null   object\n",
      " 1   Descripcion    9520 non-null   object\n",
      " 2   Habitaciones   9520 non-null   int64 \n",
      " 3   Banos          9520 non-null   int64 \n",
      " 4   Area           9520 non-null   int64 \n",
      " 5   Barrio         9520 non-null   object\n",
      " 6   UPZ            9478 non-null   object\n",
      " 7   Valor          9520 non-null   object\n",
      " 8   cost_millions  9520 non-null   object\n",
      "dtypes: int64(3), object(6)\n",
      "memory usage: 669.5+ KB\n"
     ]
    }
   ],
   "source": [
    "data.cost_millions=data.cost_millions.str.replace(\".\",\"\",regex=True) # regex\n",
    "data.info()"
   ]
  },
  {
   "attachments": {},
   "cell_type": "markdown",
   "metadata": {},
   "source": [
    "We change the cost_millions column type from object to float value"
   ]
  },
  {
   "cell_type": "code",
   "execution_count": 39,
   "metadata": {},
   "outputs": [
    {
     "name": "stdout",
     "output_type": "stream",
     "text": [
      "<class 'pandas.core.frame.DataFrame'>\n",
      "RangeIndex: 9520 entries, 0 to 9519\n",
      "Data columns (total 9 columns):\n",
      " #   Column         Non-Null Count  Dtype  \n",
      "---  ------         --------------  -----  \n",
      " 0   Tipo           9520 non-null   object \n",
      " 1   Descripcion    9520 non-null   object \n",
      " 2   Habitaciones   9520 non-null   int64  \n",
      " 3   Banos          9520 non-null   int64  \n",
      " 4   Area           9520 non-null   int64  \n",
      " 5   Barrio         9520 non-null   object \n",
      " 6   UPZ            9478 non-null   object \n",
      " 7   Valor          9520 non-null   object \n",
      " 8   cost_millions  9520 non-null   float64\n",
      "dtypes: float64(1), int64(3), object(5)\n",
      "memory usage: 669.5+ KB\n"
     ]
    }
   ],
   "source": [
    "data.cost_millions=data.cost_millions.astype(\"float\")\n",
    "data.info()"
   ]
  },
  {
   "cell_type": "code",
   "execution_count": null,
   "metadata": {},
   "outputs": [],
   "source": []
  }
 ],
 "metadata": {
  "kernelspec": {
   "display_name": "Python 3",
   "language": "python",
   "name": "python3"
  },
  "language_info": {
   "codemirror_mode": {
    "name": "ipython",
    "version": 3
   },
   "file_extension": ".py",
   "mimetype": "text/x-python",
   "name": "python",
   "nbconvert_exporter": "python",
   "pygments_lexer": "ipython3",
   "version": "3.11.2"
  },
  "orig_nbformat": 4
 },
 "nbformat": 4,
 "nbformat_minor": 2
}
